{
 "cells": [
  {
   "cell_type": "markdown",
   "metadata": {},
   "source": [
    "# Dog Project Work Book"
   ]
  },
  {
   "cell_type": "markdown",
   "metadata": {},
   "source": [
    "#### Import Statements"
   ]
  },
  {
   "cell_type": "code",
   "execution_count": 1,
   "metadata": {},
   "outputs": [
    {
     "name": "stderr",
     "output_type": "stream",
     "text": [
      "Using TensorFlow backend.\n"
     ]
    }
   ],
   "source": [
    "import keras\n",
    "from keras.preprocessing.image import ImageDataGenerator\n",
    "import sklearn\n",
    "from sklearn.datasets import load_files       \n",
    "from keras.utils import np_utils\n",
    "import numpy as np\n",
    "from glob import glob\n",
    "import random\n",
    "import matplotlib.pyplot as plt                        \n",
    "%matplotlib inline"
   ]
  },
  {
   "cell_type": "markdown",
   "metadata": {
    "heading_collapsed": true
   },
   "source": [
    "## Organize the Data\n",
    "The data needs to be organized so that it can be easily input into different models."
   ]
  },
  {
   "cell_type": "markdown",
   "metadata": {
    "hidden": true
   },
   "source": [
    "### Datasets"
   ]
  },
  {
   "cell_type": "markdown",
   "metadata": {
    "heading_collapsed": true,
    "hidden": true
   },
   "source": [
    "#### Dog/Human Data\n",
    "This will be used to train the Dog/Human detectors."
   ]
  },
  {
   "cell_type": "code",
   "execution_count": 2,
   "metadata": {
    "hidden": true
   },
   "outputs": [],
   "source": [
    "# Collect all Dog Data\n",
    "dog_data = np.expand_dims(np.array(glob('dogImages/*/*/*')), axis=1)\n",
    "np.random.shuffle(dog_data)\n",
    "\n",
    "# Collect all Human Data\n",
    "human_data = np.expand_dims(np.array(glob('lfw/*/*')), axis=1)\n",
    "np.random.shuffle(human_data)\n",
    "\n",
    "# We want equal data from dog and human categories so we only use some of the human data\n",
    "human_data = human_data[:dog_data.shape[0]]"
   ]
  },
  {
   "cell_type": "markdown",
   "metadata": {
    "hidden": true
   },
   "source": [
    "So the data has been put in the numpy arrays and shuffled. The next step is to:\n",
    "<ol>\n",
    "    <li>Assign Labels</li>\n",
    "    <li>Combine the Arrays</li>\n",
    "    <li>Reshuffle the Data</li>\n",
    "</ol>"
   ]
  },
  {
   "cell_type": "code",
   "execution_count": 3,
   "metadata": {
    "hidden": true
   },
   "outputs": [],
   "source": [
    "# Assign labels to data; 1 for Human 0, for Dog\n",
    "human_labels = np.ones(human_data.shape, dtype=np.float32)\n",
    "dog_labels = np.zeros(dog_data.shape, dtype=np.float32)\n",
    "\n",
    "# Combine labels with respective data, combine all data into one array\n",
    "labeled_human_data = np.concatenate((human_data, human_labels), axis=1)\n",
    "labeled_dog_data = np.concatenate((dog_data, dog_labels), axis=1)\n",
    "detector_data = np.concatenate((labeled_human_data, labeled_dog_data), axis=0)\n",
    "\n",
    "# Shuffled data for detector\n",
    "np.random.shuffle(detector_data)\n",
    "\n",
    "# Split into input and labels\n",
    "detector_inputs = detector_data[:,0]\n",
    "human_det_labels = detector_data[:,1].astype(np.float32)\n",
    "\n",
    "# Flip labels for dog detector\n",
    "dog_det_labels = 1 - human_det_labels"
   ]
  },
  {
   "cell_type": "markdown",
   "metadata": {
    "hidden": true
   },
   "source": [
    "The next cell shows that the first 10 entries and the labels make sense"
   ]
  },
  {
   "cell_type": "code",
   "execution_count": 4,
   "metadata": {
    "code_folding": [],
    "hidden": true,
    "scrolled": true
   },
   "outputs": [
    {
     "name": "stdout",
     "output_type": "stream",
     "text": [
      "Filename: lfw\\Tom_Brennan\\Tom_Brennan_0001.jpg      Human Label: 1.0      Dog Label: 0.0\n",
      "Filename: lfw\\Jimmy_Carter\\Jimmy_Carter_0002.jpg      Human Label: 1.0      Dog Label: 0.0\n",
      "Filename: lfw\\Hutomo_Mandala_Putra\\Hutomo_Mandala_Putra_0001.jpg      Human Label: 1.0      Dog Label: 0.0\n",
      "Filename: dogImages\\train\\048.Chihuahua\\Chihuahua_03412.jpg      Human Label: 0.0      Dog Label: 1.0\n",
      "Filename: dogImages\\train\\002.Afghan_hound\\Afghan_hound_00138.jpg      Human Label: 0.0      Dog Label: 1.0\n",
      "Filename: dogImages\\train\\114.Otterhound\\Otterhound_07395.jpg      Human Label: 0.0      Dog Label: 1.0\n",
      "Filename: lfw\\Augustin_Calleri\\Augustin_Calleri_0003.jpg      Human Label: 1.0      Dog Label: 0.0\n",
      "Filename: dogImages\\test\\024.Bichon_frise\\Bichon_frise_01759.jpg      Human Label: 0.0      Dog Label: 1.0\n",
      "Filename: lfw\\Brian_Pavlich\\Brian_Pavlich_0001.jpg      Human Label: 1.0      Dog Label: 0.0\n",
      "Filename: lfw\\Sarah_Hughes\\Sarah_Hughes_0002.jpg      Human Label: 1.0      Dog Label: 0.0\n"
     ]
    }
   ],
   "source": [
    "for item in zip(detector_inputs[:10], human_det_labels, dog_det_labels):\n",
    "    print('Filename:', item[0], '     Human Label:', item[1], '     Dog Label:', item[2])"
   ]
  },
  {
   "cell_type": "markdown",
   "metadata": {
    "hidden": true
   },
   "source": [
    "Finally, the data needs to be split into training, validation, and test sets."
   ]
  },
  {
   "cell_type": "code",
   "execution_count": 5,
   "metadata": {
    "hidden": true
   },
   "outputs": [
    {
     "data": {
      "text/plain": [
       "(16702,)"
      ]
     },
     "execution_count": 5,
     "metadata": {},
     "output_type": "execute_result"
    }
   ],
   "source": [
    "detector_inputs.shape"
   ]
  },
  {
   "cell_type": "code",
   "execution_count": 6,
   "metadata": {
    "code_folding": [],
    "hidden": true
   },
   "outputs": [],
   "source": [
    "# we want 1000 validation and 1000 test examples\n",
    "test_index = (0, 1000)\n",
    "validation_index = (1000, 3000)\n",
    "train_index = (3000, 16701)\n",
    "\n",
    "def get_data(inputs, labels, indices):\n",
    "    input_data = inputs[indices[0]: indices[1]]\n",
    "    data_labels = labels[indices[0]: indices[1]]\n",
    "    return input_data, data_labels\n",
    "\n",
    "test_a, test_b = get_data(detector_inputs, human_det_labels, test_index)"
   ]
  },
  {
   "cell_type": "code",
   "execution_count": 7,
   "metadata": {
    "code_folding": [],
    "hidden": true
   },
   "outputs": [
    {
     "name": "stdout",
     "output_type": "stream",
     "text": [
      "('lfw\\\\Tom_Brennan\\\\Tom_Brennan_0001.jpg', 1.0)\n",
      "('lfw\\\\Jimmy_Carter\\\\Jimmy_Carter_0002.jpg', 1.0)\n",
      "('lfw\\\\Hutomo_Mandala_Putra\\\\Hutomo_Mandala_Putra_0001.jpg', 1.0)\n",
      "('dogImages\\\\train\\\\048.Chihuahua\\\\Chihuahua_03412.jpg', 0.0)\n",
      "('dogImages\\\\train\\\\002.Afghan_hound\\\\Afghan_hound_00138.jpg', 0.0)\n",
      "('dogImages\\\\train\\\\114.Otterhound\\\\Otterhound_07395.jpg', 0.0)\n",
      "('lfw\\\\Augustin_Calleri\\\\Augustin_Calleri_0003.jpg', 1.0)\n",
      "('dogImages\\\\test\\\\024.Bichon_frise\\\\Bichon_frise_01759.jpg', 0.0)\n",
      "('lfw\\\\Brian_Pavlich\\\\Brian_Pavlich_0001.jpg', 1.0)\n",
      "('lfw\\\\Sarah_Hughes\\\\Sarah_Hughes_0002.jpg', 1.0)\n"
     ]
    }
   ],
   "source": [
    "for item in zip(test_a[:10], test_b[:10]):\n",
    "    print(item)"
   ]
  },
  {
   "cell_type": "markdown",
   "metadata": {
    "hidden": true
   },
   "source": [
    "#### Dog Breed Data\n",
    "This will be used to train the breed classifiers."
   ]
  },
  {
   "cell_type": "code",
   "execution_count": null,
   "metadata": {
    "hidden": true
   },
   "outputs": [],
   "source": []
  },
  {
   "cell_type": "markdown",
   "metadata": {
    "heading_collapsed": true,
    "hidden": true
   },
   "source": [
    "### Data Augmentation"
   ]
  },
  {
   "cell_type": "markdown",
   "metadata": {
    "hidden": true
   },
   "source": [
    "#### Create Generator that will Augment Data"
   ]
  },
  {
   "cell_type": "code",
   "execution_count": 8,
   "metadata": {
    "hidden": true
   },
   "outputs": [],
   "source": [
    "training_generator = ImageDataGenerator(rescale=1.,\n",
    "                                        rotation_range=10.0,\n",
    "                                        width_shift_range=0.1,\n",
    "                                        height_shift_range=0.1,\n",
    "                                        shear_range=0.1,\n",
    "                                        zoom_range=0.1,\n",
    "                                        horizontal_flip=True,\n",
    "                                        vertical_flip=False,\n",
    "                                        fill_mode=\"reflect\")\n",
    "\n",
    "validation_generator = ImageDataGenerator(rescale=1)"
   ]
  },
  {
   "cell_type": "code",
   "execution_count": 9,
   "metadata": {
    "hidden": true
   },
   "outputs": [],
   "source": [
    "from keras.preprocessing import image                  \n",
    "from tqdm import tqdm\n",
    "from PIL import ImageFile                            \n",
    "ImageFile.LOAD_TRUNCATED_IMAGES = True \n",
    "\n",
    "def path_to_tensor(img_path):\n",
    "    # loads RGB image as PIL.Image.Image type\n",
    "    img = image.load_img(img_path, target_size=(224, 224))\n",
    "    # convert PIL.Image.Image type to 3D tensor with shape (224, 224, 3)\n",
    "    x = image.img_to_array(img)\n",
    "    # convert 3D tensor to 4D tensor with shape (1, 224, 224, 3) and return 4D tensor\n",
    "    return np.expand_dims(x, axis=0)\n",
    "\n",
    "def paths_to_tensor(img_paths):\n",
    "    list_of_tensors = [path_to_tensor(img_path) for img_path in tqdm(img_paths)]\n",
    "    return np.vstack(list_of_tensors)"
   ]
  },
  {
   "cell_type": "code",
   "execution_count": 10,
   "metadata": {
    "hidden": true
   },
   "outputs": [
    {
     "name": "stderr",
     "output_type": "stream",
     "text": [
      "100%|█████████████████████████████████████████████████████████████████████████████| 1000/1000 [00:04<00:00, 203.63it/s]\n"
     ]
    }
   ],
   "source": [
    "x = paths_to_tensor(test_a)\n",
    "training_data = training_generator.flow(x, test_b, batch_size=32, shuffle=False)"
   ]
  },
  {
   "cell_type": "markdown",
   "metadata": {
    "hidden": true
   },
   "source": [
    "#### Create Augmented Train, Validation, and Test Datasets\n",
    "One set for the Dog/Human data and one set for the Dog Breed data."
   ]
  },
  {
   "cell_type": "code",
   "execution_count": null,
   "metadata": {
    "hidden": true
   },
   "outputs": [],
   "source": []
  },
  {
   "cell_type": "markdown",
   "metadata": {
    "heading_collapsed": true,
    "hidden": true
   },
   "source": [
    "### Compute Bottleneck features\n"
   ]
  },
  {
   "cell_type": "code",
   "execution_count": null,
   "metadata": {
    "hidden": true
   },
   "outputs": [],
   "source": []
  },
  {
   "cell_type": "markdown",
   "metadata": {},
   "source": [
    "## Human/Dog Detector\n",
    "Build a model that predicts if there is a dog, human, both or neither in the image."
   ]
  },
  {
   "cell_type": "markdown",
   "metadata": {},
   "source": [
    "### Human Detection"
   ]
  },
  {
   "cell_type": "code",
   "execution_count": 11,
   "metadata": {},
   "outputs": [],
   "source": [
    "train_inputs, train_hlabels = get_data(detector_inputs, human_det_labels, train_index)"
   ]
  },
  {
   "cell_type": "code",
   "execution_count": 12,
   "metadata": {},
   "outputs": [
    {
     "name": "stderr",
     "output_type": "stream",
     "text": [
      "100%|███████████████████████████████████████████████████████████████████████████| 13701/13701 [01:09<00:00, 196.83it/s]\n"
     ]
    }
   ],
   "source": [
    "train_inputs = paths_to_tensor(train_inputs)"
   ]
  },
  {
   "cell_type": "code",
   "execution_count": 17,
   "metadata": {},
   "outputs": [],
   "source": [
    "from keras.applications.inception_v3 import InceptionV3, preprocess_input"
   ]
  },
  {
   "cell_type": "code",
   "execution_count": 19,
   "metadata": {},
   "outputs": [],
   "source": [
    "model = InceptionV3(include_top=False, weights='imagenet')"
   ]
  },
  {
   "cell_type": "code",
   "execution_count": 24,
   "metadata": {},
   "outputs": [
    {
     "data": {
      "text/plain": [
       "<tf.Tensor 'mixed10/concat:0' shape=(?, ?, ?, 2048) dtype=float32>"
      ]
     },
     "execution_count": 24,
     "metadata": {},
     "output_type": "execute_result"
    }
   ],
   "source": []
  },
  {
   "cell_type": "code",
   "execution_count": null,
   "metadata": {},
   "outputs": [],
   "source": []
  },
  {
   "cell_type": "markdown",
   "metadata": {
    "heading_collapsed": true
   },
   "source": [
    "### Dog Detection"
   ]
  },
  {
   "cell_type": "code",
   "execution_count": null,
   "metadata": {
    "hidden": true
   },
   "outputs": [],
   "source": []
  },
  {
   "cell_type": "markdown",
   "metadata": {
    "heading_collapsed": true
   },
   "source": [
    "### Object Localization"
   ]
  },
  {
   "cell_type": "code",
   "execution_count": null,
   "metadata": {
    "hidden": true
   },
   "outputs": [],
   "source": []
  },
  {
   "cell_type": "markdown",
   "metadata": {
    "heading_collapsed": true
   },
   "source": [
    "### Split Image for Images Containing Both"
   ]
  },
  {
   "cell_type": "code",
   "execution_count": null,
   "metadata": {
    "hidden": true
   },
   "outputs": [],
   "source": []
  },
  {
   "cell_type": "markdown",
   "metadata": {},
   "source": [
    "## Breed Classifier for Dogs\n",
    "Build a model to predict the dog breed, optimized for pictures of dogs."
   ]
  },
  {
   "cell_type": "markdown",
   "metadata": {
    "heading_collapsed": true
   },
   "source": [
    "### Build and Train Several Models\n",
    "Use bottleneck features from several pretrained models"
   ]
  },
  {
   "cell_type": "code",
   "execution_count": null,
   "metadata": {
    "hidden": true
   },
   "outputs": [],
   "source": []
  },
  {
   "cell_type": "markdown",
   "metadata": {
    "heading_collapsed": true
   },
   "source": [
    "### Organize Models into an Ensemble"
   ]
  },
  {
   "cell_type": "code",
   "execution_count": null,
   "metadata": {
    "hidden": true
   },
   "outputs": [],
   "source": []
  },
  {
   "cell_type": "markdown",
   "metadata": {
    "heading_collapsed": true
   },
   "source": [
    "### Test the Ensemble"
   ]
  },
  {
   "cell_type": "code",
   "execution_count": null,
   "metadata": {
    "hidden": true
   },
   "outputs": [],
   "source": []
  },
  {
   "cell_type": "markdown",
   "metadata": {},
   "source": [
    "## Breed Classifier for Humans\n",
    "Build a model that predicts a breed that looks similar to the human in the image."
   ]
  },
  {
   "cell_type": "markdown",
   "metadata": {
    "heading_collapsed": true
   },
   "source": [
    "### Face Detection"
   ]
  },
  {
   "cell_type": "code",
   "execution_count": null,
   "metadata": {
    "hidden": true
   },
   "outputs": [],
   "source": []
  },
  {
   "cell_type": "markdown",
   "metadata": {
    "heading_collapsed": true
   },
   "source": [
    "### Face Cropping"
   ]
  },
  {
   "cell_type": "code",
   "execution_count": null,
   "metadata": {
    "hidden": true
   },
   "outputs": [],
   "source": []
  },
  {
   "cell_type": "markdown",
   "metadata": {
    "heading_collapsed": true
   },
   "source": [
    "### Breed Classifier for Dog Faces"
   ]
  },
  {
   "cell_type": "code",
   "execution_count": null,
   "metadata": {
    "hidden": true
   },
   "outputs": [],
   "source": []
  },
  {
   "cell_type": "markdown",
   "metadata": {
    "heading_collapsed": true
   },
   "source": [
    "### Test Model on Human Faces"
   ]
  },
  {
   "cell_type": "code",
   "execution_count": null,
   "metadata": {
    "hidden": true
   },
   "outputs": [],
   "source": []
  },
  {
   "cell_type": "markdown",
   "metadata": {},
   "source": [
    "## Face Matching\n",
    "Find a dog in the data that has a similar face as the human face."
   ]
  },
  {
   "cell_type": "markdown",
   "metadata": {
    "heading_collapsed": true
   },
   "source": [
    "### Eye and Nose Detector"
   ]
  },
  {
   "cell_type": "code",
   "execution_count": null,
   "metadata": {
    "hidden": true
   },
   "outputs": [],
   "source": []
  },
  {
   "cell_type": "markdown",
   "metadata": {
    "heading_collapsed": true
   },
   "source": [
    "### Process Dog Face\n",
    "Adjust size and orientation so eye and nose location match the human."
   ]
  },
  {
   "cell_type": "code",
   "execution_count": null,
   "metadata": {
    "hidden": true
   },
   "outputs": [],
   "source": []
  },
  {
   "cell_type": "markdown",
   "metadata": {},
   "source": [
    "## Feature Melding"
   ]
  },
  {
   "cell_type": "markdown",
   "metadata": {
    "heading_collapsed": true
   },
   "source": [
    "### Generate Image of Human/Dog Face Combined"
   ]
  },
  {
   "cell_type": "code",
   "execution_count": null,
   "metadata": {
    "hidden": true
   },
   "outputs": [],
   "source": []
  },
  {
   "cell_type": "markdown",
   "metadata": {},
   "source": [
    "## Super Resolution"
   ]
  },
  {
   "cell_type": "markdown",
   "metadata": {
    "heading_collapsed": true
   },
   "source": [
    "### Create a Super Resolution Model"
   ]
  },
  {
   "cell_type": "code",
   "execution_count": null,
   "metadata": {
    "hidden": true
   },
   "outputs": [],
   "source": []
  },
  {
   "cell_type": "markdown",
   "metadata": {
    "heading_collapsed": true
   },
   "source": [
    "### Apply Super Resolution to the Generated Image"
   ]
  },
  {
   "cell_type": "code",
   "execution_count": null,
   "metadata": {
    "hidden": true
   },
   "outputs": [],
   "source": []
  },
  {
   "cell_type": "markdown",
   "metadata": {},
   "source": [
    "## Final Algorithm"
   ]
  },
  {
   "cell_type": "markdown",
   "metadata": {
    "heading_collapsed": true
   },
   "source": [
    "### Build Algorithm"
   ]
  },
  {
   "cell_type": "code",
   "execution_count": null,
   "metadata": {
    "hidden": true
   },
   "outputs": [],
   "source": []
  },
  {
   "cell_type": "markdown",
   "metadata": {
    "heading_collapsed": true
   },
   "source": [
    "### Test Algorithm"
   ]
  },
  {
   "cell_type": "code",
   "execution_count": null,
   "metadata": {
    "hidden": true
   },
   "outputs": [],
   "source": []
  }
 ],
 "metadata": {
  "kernelspec": {
   "display_name": "Python 3",
   "language": "python",
   "name": "python3"
  },
  "language_info": {
   "codemirror_mode": {
    "name": "ipython",
    "version": 3
   },
   "file_extension": ".py",
   "mimetype": "text/x-python",
   "name": "python",
   "nbconvert_exporter": "python",
   "pygments_lexer": "ipython3",
   "version": "3.5.4"
  }
 },
 "nbformat": 4,
 "nbformat_minor": 2
}
