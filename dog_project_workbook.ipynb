{
 "cells": [
  {
   "cell_type": "markdown",
   "metadata": {},
   "source": [
    "<h1>Dog Project Work Book</h1>"
   ]
  },
  {
   "cell_type": "markdown",
   "metadata": {},
   "source": [
    "#### Brief Overview of Work Book"
   ]
  },
  {
   "cell_type": "markdown",
   "metadata": {},
   "source": [
    "This workbook outlines the process of training a dog breed classifier for Udacity's Dog Breed Classifier project in the AI Nanodegree program.\n",
    "\n",
    "The things I tried out include:\n",
    "<ol>\n",
    "<li>\n",
    "<p>I used a data generator rather than loading in all the data. Because of this I was able to test out data augmentation relatively easily. I was also able to implement a preprocessing function and integrate it into the data generation. Additionally, I was able to adjust the image size easily, which had a noticable effect in improving the models.\n",
    "</p>\n",
    "        \n",
    "<p>Ultimately, data augmentation did not improve the models very much while increase the time to train the models. Although, when training a model from scratch it did show a benefit.\n",
    "</p>\n",
    "</li>\n",
    "<li>\n",
    "I tried out multiple pretrained models, using the conv layers to generate the bottleneck features of the data. Then trained a small classifier on top of each of those. I also tried to finetune the vgg19 network, but it didn't noticably improve the accuracy. Ultimately, the Inception based models performed the best, acheiving around 90% on the validation sets.\n",
    "</li>\n",
    "<li>\n",
    "Once I had several models performing well I organized them into an ensemble, averaging their predictions. This was able to produce a 93.6% accuracy on the test dataset.\n",
    "</li>\n",
    "<li>\n",
    "Finally, at the end of the notebook I have a short insight into the error the models ran into and also some visualization of what the model is seeing when it looks at an image. This section could be organized into a more detailed analysis which I may or may not do in the future.\n",
    "</li>\n",
    "</ol>"
   ]
  },
  {
   "cell_type": "markdown",
   "metadata": {},
   "source": [
    "#### Import Statements"
   ]
  },
  {
   "cell_type": "code",
   "execution_count": 2,
   "metadata": {},
   "outputs": [
    {
     "name": "stderr",
     "output_type": "stream",
     "text": [
      "Using TensorFlow backend.\n"
     ]
    }
   ],
   "source": [
    "import keras\n",
    "from keras.preprocessing.image import ImageDataGenerator\n",
    "from keras.utils import np_utils\n",
    "from keras.utils.np_utils import to_categorical\n",
    "from keras.preprocessing import image                  \n",
    "from keras.layers import Conv2D, MaxPooling2D, GlobalAveragePooling2D\n",
    "from keras.layers import Dropout, Flatten, Dense, BatchNormalization\n",
    "from keras.models import Sequential, Model\n",
    "from keras.optimizers import Adam, SGD\n",
    "from keras.applications.vgg16 import VGG16\n",
    "from keras.callbacks import ModelCheckpoint\n",
    "\n",
    "import sklearn\n",
    "from sklearn.datasets import load_files\n",
    "from sklearn.utils import shuffle\n",
    "import numpy as np\n",
    "from glob import glob\n",
    "import random\n",
    "import matplotlib.pyplot as plt                        \n",
    "%matplotlib inline\n",
    "\n",
    "from PIL import ImageFile                            \n",
    "ImageFile.LOAD_TRUNCATED_IMAGES = True\n",
    "from tqdm import tqdm\n",
    "from keras.callbacks import ModelCheckpoint  "
   ]
  },
  {
   "cell_type": "markdown",
   "metadata": {},
   "source": [
    "# Organize the Data"
   ]
  },
  {
   "cell_type": "code",
   "execution_count": 6,
   "metadata": {},
   "outputs": [],
   "source": [
    "# Data file locations\n",
    "train_data_path = 'dogImages/train/'\n",
    "valid_data_path = 'dogImages/valid/'\n",
    "test_data_path = 'dogImages/test/'"
   ]
  },
  {
   "cell_type": "markdown",
   "metadata": {},
   "source": [
    "## Data Augmentation"
   ]
  },
  {
   "cell_type": "markdown",
   "metadata": {},
   "source": [
    "### Augmentation and Preprocessing for Models"
   ]
  },
  {
   "cell_type": "markdown",
   "metadata": {},
   "source": [
    "The pretrained models that will be used were trained on images processed in two different ways. ResNet and VGG models expect images to be centered around zero and have BGR color channel order so below is a preprocessing function that can be applied to the data generator. This will apply the preprocessing to the image as it is input into the model. \n",
    "\n",
    "The Inception based model seem to perform best when the image values are normalized to be between 0 and 1 so each image is divided by 255 as it is input into the model."
   ]
  },
  {
   "cell_type": "code",
   "execution_count": 8,
   "metadata": {
    "code_folding": []
   },
   "outputs": [],
   "source": [
    "def imagenet_prep(image_tensor):\n",
    "    '''\n",
    "        Takes the image tensors for one image. Applies the preprocessing need for the Resnet and VGG models.\n",
    "        \n",
    "        Inputs: Image tensor of shape (width, height, colorchannels)\n",
    "        \n",
    "        Returns: Tensor of same shape with color channels flipped and values centered around zero for each color channel.\n",
    "    '''\n",
    "    # imagenet averages for RGB\n",
    "    image_net_mean = np.array([103.939,116.779,123.68])\n",
    "    image_tensor -= image_net_mean\n",
    "    \n",
    "    # Flip color channels\n",
    "    image_tensor = image_tensor[:, :, ::-1]\n",
    "    return image_tensor"
   ]
  },
  {
   "cell_type": "code",
   "execution_count": 9,
   "metadata": {},
   "outputs": [],
   "source": [
    "batch_size = 32\n",
    "\n",
    "# Augments the data for the Inception models\n",
    "inception_generator_da = ImageDataGenerator(rescale=1/255,\n",
    "                                                  rotation_range=10.0,\n",
    "                                                  width_shift_range=0.1,\n",
    "                                                  height_shift_range=0.1,\n",
    "                                                  shear_range=0.05,\n",
    "                                                  zoom_range=0.1,\n",
    "                                                  horizontal_flip=True,\n",
    "                                                  vertical_flip=False,\n",
    "                                                  fill_mode=\"reflect\")\n",
    "\n",
    "# prepares data for the Inception models without augmenting the data\n",
    "inception_generator = ImageDataGenerator(rescale=1/255)\n",
    "\n",
    "\n",
    "# Augments the data for the ResNet and VGG models\n",
    "resvgg_generator_da = ImageDataGenerator(preprocessing_function=imagenet_prep,\n",
    "                                               rescale=1.,\n",
    "                                               rotation_range=10.0,\n",
    "                                               width_shift_range=0.1,\n",
    "                                               height_shift_range=0.1,\n",
    "                                               shear_range=0.05,\n",
    "                                               zoom_range=0.1,\n",
    "                                               horizontal_flip=True,\n",
    "                                               vertical_flip=False,\n",
    "                                               fill_mode=\"reflect\")\n",
    "\n",
    "# prepares data for the ResNet and VGG models without augmenting the data\n",
    "resvgg_generator = ImageDataGenerator(preprocessing_function=imagenet_prep)\n"
   ]
  },
  {
   "cell_type": "markdown",
   "metadata": {},
   "source": [
    "### Data Generators"
   ]
  },
  {
   "cell_type": "markdown",
   "metadata": {},
   "source": [
    "Here are the generators for the data. There are a few things to note:\n",
    "<ol>\n",
    "    <li>The target image size is 350x350px. The larger image size produces a better accuracy compared to say 224x224px or 299x299px which is standard for VGG and Inception respectively. One possible explaination of this is that to the model you are zooming in on the image which may make it easier to pick up details.</li>\n",
    "    <li>Shuffle is set to False. This is done because we will be passing the data from these generators through the conv layers of the pretrained models in order to obtain the bottle neck features. The data needs to stay in synch with the labels so to shuffle the data, it needs to be done with the bottleneck features and the labels. A step outline below.\n",
    "</ol>"
   ]
  },
  {
   "cell_type": "code",
   "execution_count": 10,
   "metadata": {
    "code_folding": []
   },
   "outputs": [
    {
     "name": "stdout",
     "output_type": "stream",
     "text": [
      "Found 6680 images belonging to 133 classes.\n",
      "Found 835 images belonging to 133 classes.\n",
      "Found 6680 images belonging to 133 classes.\n",
      "Found 835 images belonging to 133 classes.\n"
     ]
    }
   ],
   "source": [
    "inception_train_data = inception_generator.flow_from_directory(train_data_path,\n",
    "                                                       target_size=(350, 350),\n",
    "                                                       batch_size=batch_size,\n",
    "                                                       shuffle=False,\n",
    "                                                       class_mode='categorical')\n",
    "\n",
    "inception_valid_data = inception_generator.flow_from_directory(valid_data_path,\n",
    "                                                           target_size=(350, 350),\n",
    "                                                           batch_size=batch_size,\n",
    "                                                           shuffle=False,\n",
    "                                                           class_mode='categorical')\n",
    "\n",
    "resvgg_train_data = resvgg_generator.flow_from_directory(train_data_path,\n",
    "                                                       target_size=(350, 350),\n",
    "                                                       batch_size=batch_size,\n",
    "                                                       shuffle=False,\n",
    "                                                       class_mode='categorical')\n",
    "\n",
    "resvgg_valid_data = resvgg_generator.flow_from_directory(valid_data_path,\n",
    "                                                           target_size=(350, 350),\n",
    "                                                           batch_size=batch_size,\n",
    "                                                           shuffle=False,\n",
    "                                                           class_mode='categorical')\n",
    "\n",
    "train_samples = len(inception_train_data.filenames)\n",
    "validation_samples = len(inception_valid_data.filenames)\n",
    "dog_names = [item[20:-1] for item in sorted(glob(\"dogImages/train/*/\"))]"
   ]
  },
  {
   "cell_type": "code",
   "execution_count": 11,
   "metadata": {},
   "outputs": [],
   "source": [
    "# Labels will be the same for both types of models; needed to match back to bottleneck features\n",
    "train_labels = to_categorical(inception_train_data.classes)\n",
    "valid_labels = to_categorical(inception_valid_data.classes)"
   ]
  },
  {
   "cell_type": "markdown",
   "metadata": {},
   "source": [
    "# Breed Classifier for Dogs"
   ]
  },
  {
   "cell_type": "markdown",
   "metadata": {},
   "source": [
    "## CNN from Scratch"
   ]
  },
  {
   "cell_type": "markdown",
   "metadata": {},
   "source": [
    "Building a CNN from scratch we can make a generator that does shuffle the data because we won't be computing any bottleneck features."
   ]
  },
  {
   "cell_type": "markdown",
   "metadata": {},
   "source": [
    "### Data Generator"
   ]
  },
  {
   "cell_type": "code",
   "execution_count": 39,
   "metadata": {},
   "outputs": [
    {
     "name": "stdout",
     "output_type": "stream",
     "text": [
      "Found 6680 images belonging to 133 classes.\n",
      "Found 835 images belonging to 133 classes.\n"
     ]
    }
   ],
   "source": [
    "scratch_train_data = inception_generator_da.flow_from_directory(train_data_path,\n",
    "                                                       target_size=(350, 350),\n",
    "                                                       batch_size=batch_size,\n",
    "                                                       shuffle=True,\n",
    "                                                       class_mode='categorical')\n",
    "\n",
    "scratch_valid_data = inception_generator.flow_from_directory(valid_data_path,\n",
    "                                                           target_size=(350, 350),\n",
    "                                                           batch_size=batch_size,\n",
    "                                                           shuffle=True,\n",
    "                                                           class_mode='categorical')"
   ]
  },
  {
   "cell_type": "markdown",
   "metadata": {},
   "source": [
    "### Build Model"
   ]
  },
  {
   "cell_type": "markdown",
   "metadata": {},
   "source": [
    "The architechture is based off the VGG architechture, but with just 1 conv layer for each block."
   ]
  },
  {
   "cell_type": "code",
   "execution_count": 40,
   "metadata": {},
   "outputs": [],
   "source": [
    "model = Sequential()\n",
    "# Conv layer1\n",
    "model.add(Conv2D(32, 3, strides=(1,1), padding='same', activation='relu', input_shape=(350,350,3)))\n",
    "model.add(MaxPooling2D((2,2), strides= 2, padding='same'))\n",
    "\n",
    "# Conv layer2\n",
    "model.add(Conv2D(64, 3, strides=(1,1), padding='same', activation='relu'))\n",
    "model.add(MaxPooling2D((2,2), strides= 2, padding='same'))\n",
    "\n",
    "# Conv layer3\n",
    "model.add(Conv2D(128, 3, strides=(1,1), padding='same', activation='relu'))\n",
    "model.add(MaxPooling2D((2,2), strides= 2, padding='same'))\n",
    "\n",
    "# Conv layer4\n",
    "model.add(Conv2D(256, 3, strides=(1,1), padding='same', activation='relu'))\n",
    "model.add(MaxPooling2D((2,2), strides= 2, padding='same'))\n",
    "\n",
    "# Conv layer5\n",
    "model.add(Conv2D(256, 3, strides=(1,1), padding='same', activation='relu'))\n",
    "model.add(MaxPooling2D((2,2), strides= 2, padding='same'))\n",
    "\n",
    "#Flatten Layer\n",
    "model.add(GlobalAveragePooling2D())\n",
    "model.add(BatchNormalization())\n",
    "\n",
    "#Fully Connected Layer 2\n",
    "model.add(Dense(133, activation='softmax'))"
   ]
  },
  {
   "cell_type": "code",
   "execution_count": 41,
   "metadata": {},
   "outputs": [],
   "source": [
    "model.load_weights(filepath='saved_models/weights.best.from_scratch_da.hdf5')"
   ]
  },
  {
   "cell_type": "code",
   "execution_count": 42,
   "metadata": {},
   "outputs": [],
   "source": [
    "model.compile(optimizer=Adam(), loss='categorical_crossentropy', metrics=['accuracy'])"
   ]
  },
  {
   "cell_type": "markdown",
   "metadata": {},
   "source": [
    "### Train Model"
   ]
  },
  {
   "cell_type": "markdown",
   "metadata": {},
   "source": [
    "After training it for several cycles(5 I think) of 10 epochs the model get to about 50% accuracy which is pretty good since there are 133 classes and only 6680 training examples.\n",
    "\n",
    "Pure guessing would only be 00.75%."
   ]
  },
  {
   "cell_type": "code",
   "execution_count": 47,
   "metadata": {},
   "outputs": [
    {
     "name": "stdout",
     "output_type": "stream",
     "text": [
      "Epoch 1/10\n",
      " - 218s - loss: 0.2442 - acc: 0.9242 - val_loss: 2.9442 - val_acc: 0.4766\n",
      "Epoch 2/10\n",
      " - 214s - loss: 0.2494 - acc: 0.9245 - val_loss: 2.7488 - val_acc: 0.4778\n",
      "Epoch 3/10\n",
      " - 206s - loss: 0.2488 - acc: 0.9224 - val_loss: 2.7818 - val_acc: 0.4743\n",
      "Epoch 4/10\n",
      " - 209s - loss: 0.2389 - acc: 0.9243 - val_loss: 2.7629 - val_acc: 0.4754\n",
      "Epoch 5/10\n",
      " - 202s - loss: 0.2670 - acc: 0.9183 - val_loss: 3.2061 - val_acc: 0.4778\n",
      "Epoch 6/10\n",
      " - 211s - loss: 0.2631 - acc: 0.9129 - val_loss: 2.9207 - val_acc: 0.4778\n",
      "Epoch 7/10\n",
      " - 216s - loss: 0.2320 - acc: 0.9223 - val_loss: 2.6750 - val_acc: 0.4778\n",
      "Epoch 8/10\n",
      " - 223s - loss: 0.2335 - acc: 0.9244 - val_loss: 3.2669 - val_acc: 0.4443\n",
      "Epoch 9/10\n",
      " - 218s - loss: 0.2186 - acc: 0.9285 - val_loss: 2.9923 - val_acc: 0.4850\n",
      "Epoch 10/10\n",
      " - 205s - loss: 0.2538 - acc: 0.9219 - val_loss: 2.6119 - val_acc: 0.4958\n"
     ]
    },
    {
     "data": {
      "text/plain": [
       "<keras.callbacks.History at 0x1cd5cdf9b00>"
      ]
     },
     "execution_count": 47,
     "metadata": {},
     "output_type": "execute_result"
    }
   ],
   "source": [
    "checkpointer = ModelCheckpoint(filepath='saved_models/weights.best.from_scratch_da.hdf5', \n",
    "                               verbose=0, save_best_only=True)\n",
    "\n",
    "model.fit_generator(scratch_train_data, steps_per_epoch=(1+train_samples//batch_size), epochs=10,\n",
    "                    callbacks=[checkpointer], verbose=2, \n",
    "                    validation_data=scratch_valid_data,\n",
    "                    validation_steps=(1+validation_samples//batch_size))"
   ]
  },
  {
   "cell_type": "markdown",
   "metadata": {},
   "source": [
    "## Build Classifiers Using Pretrained Models"
   ]
  },
  {
   "cell_type": "markdown",
   "metadata": {},
   "source": [
    "The same process will be used for 6 different models and follows these steps:\n",
    "    <ol>\n",
    "    <li>Import and load the conv layers of the pretrained model.</li>\n",
    "    <li>Compute the bottleneck features by using the pretrained model to predict on the data generater.</li>\n",
    "    <li>Shuffle the bottleneck features and labels corresponding features and labels stay paired.</li>\n",
    "    <li>Construct the model that will go ontop of the pretrained conv layers.</li>\n",
    "    <li>Train the model with the bottleneck features and labels, saving the weights.</li>\n",
    "    </ol>"
   ]
  },
  {
   "cell_type": "markdown",
   "metadata": {},
   "source": [
    "### Inception Model"
   ]
  },
  {
   "cell_type": "code",
   "execution_count": 12,
   "metadata": {},
   "outputs": [],
   "source": [
    "from keras.applications.inception_v3 import InceptionV3\n",
    "inception = InceptionV3(include_top=False, weights='imagenet')"
   ]
  },
  {
   "cell_type": "code",
   "execution_count": 9,
   "metadata": {},
   "outputs": [],
   "source": [
    "inception_bottleneck = inception.predict_generator(inception_train_data, steps=1)\n",
    "inception_valid = inception.predict_generator(inception_valid_data, steps=1)"
   ]
  },
  {
   "cell_type": "code",
   "execution_count": 10,
   "metadata": {},
   "outputs": [],
   "source": [
    "shuf_train, shuf_train_labels = shuffle(inception_bottleneck, train_labels)\n",
    "shuf_val, shuf_val_labels = shuffle(inception_valid, valid_labels)"
   ]
  },
  {
   "cell_type": "code",
   "execution_count": 13,
   "metadata": {},
   "outputs": [],
   "source": [
    "inception_model = Sequential()\n",
    "inception_model.add(GlobalAveragePooling2D(input_shape=(9,9,2048)))\n",
    "inception_model.add(BatchNormalization())\n",
    "\n",
    "inception_model.add(Dense(133, activation='softmax'))\n",
    "inception_model.compile(optimizer=Adam(), loss='categorical_crossentropy', metrics=['accuracy'])"
   ]
  },
  {
   "cell_type": "code",
   "execution_count": 31,
   "metadata": {},
   "outputs": [],
   "source": [
    "checkpointer = ModelCheckpoint(filepath='saved_models/weights.best.inception6.hdf5', \n",
    "                               verbose=0, save_best_only=True)"
   ]
  },
  {
   "cell_type": "code",
   "execution_count": 32,
   "metadata": {},
   "outputs": [
    {
     "name": "stdout",
     "output_type": "stream",
     "text": [
      "Train on 6680 samples, validate on 835 samples\n",
      "Epoch 1/10\n",
      " - 7s - loss: 0.9024 - acc: 0.7671 - val_loss: 0.6431 - val_acc: 0.8599\n",
      "Epoch 2/10\n",
      " - 6s - loss: 0.2002 - acc: 0.9346 - val_loss: 0.3820 - val_acc: 0.8814\n",
      "Epoch 3/10\n",
      " - 6s - loss: 0.0947 - acc: 0.9714 - val_loss: 0.3923 - val_acc: 0.8970\n",
      "Epoch 4/10\n",
      " - 6s - loss: 0.0552 - acc: 0.9847 - val_loss: 0.3996 - val_acc: 0.8970\n",
      "Epoch 5/10\n",
      " - 7s - loss: 0.0322 - acc: 0.9925 - val_loss: 0.3705 - val_acc: 0.8994\n",
      "Epoch 6/10\n",
      " - 6s - loss: 0.0233 - acc: 0.9955 - val_loss: 0.3947 - val_acc: 0.9078\n",
      "Epoch 7/10\n",
      " - 6s - loss: 0.0239 - acc: 0.9951 - val_loss: 0.3784 - val_acc: 0.9102\n",
      "Epoch 8/10\n",
      " - 6s - loss: 0.0207 - acc: 0.9952 - val_loss: 0.4408 - val_acc: 0.8862\n",
      "Epoch 9/10\n",
      " - 6s - loss: 0.0206 - acc: 0.9964 - val_loss: 0.4234 - val_acc: 0.9006\n",
      "Epoch 10/10\n",
      " - 6s - loss: 0.0209 - acc: 0.9942 - val_loss: 0.4817 - val_acc: 0.8898\n"
     ]
    },
    {
     "data": {
      "text/plain": [
       "<keras.callbacks.History at 0x22ee5dc1ba8>"
      ]
     },
     "execution_count": 32,
     "metadata": {},
     "output_type": "execute_result"
    }
   ],
   "source": [
    "inception_model.fit(shuf_train, shuf_train_labels, \n",
    "                        validation_data=(shuf_val, shuf_val_labels),\n",
    "                        epochs=10, batch_size=32, callbacks=[checkpointer], verbose=2)"
   ]
  },
  {
   "cell_type": "markdown",
   "metadata": {},
   "source": [
    "### VGG16 Model"
   ]
  },
  {
   "cell_type": "code",
   "execution_count": 9,
   "metadata": {},
   "outputs": [],
   "source": [
    "from keras.applications.vgg16 import VGG16\n",
    "vgg16 = VGG16(include_top=False, weights='imagenet')"
   ]
  },
  {
   "cell_type": "code",
   "execution_count": 64,
   "metadata": {},
   "outputs": [],
   "source": [
    "vgg16_bottleneck = vgg16.predict_generator(resvgg_train_data, steps=1)\n",
    "vgg16_valid = vgg16.predict_generator(resvgg_valid_data, steps=1)"
   ]
  },
  {
   "cell_type": "code",
   "execution_count": 65,
   "metadata": {},
   "outputs": [],
   "source": [
    "shuf_train, shuf_train_labels = shuffle(vgg16_bottleneck, train_labels)\n",
    "shuf_val, shuf_val_labels = shuffle(vgg16_valid, valid_labels)"
   ]
  },
  {
   "cell_type": "code",
   "execution_count": 10,
   "metadata": {},
   "outputs": [],
   "source": [
    "vgg16_model = Sequential()\n",
    "vgg16_model.add(GlobalAveragePooling2D(input_shape=(None, None, 512)))\n",
    "vgg16_model.add(BatchNormalization())\n",
    "\n",
    "vgg16_model.add(Dense(133, activation='softmax'))\n",
    "vgg16_model.compile(optimizer=Adam(), loss='categorical_crossentropy', metrics=['accuracy'])"
   ]
  },
  {
   "cell_type": "code",
   "execution_count": 67,
   "metadata": {},
   "outputs": [],
   "source": [
    "checkpointer = ModelCheckpoint(filepath='saved_models/weights.best.vgg16.hdf5', \n",
    "                               verbose=0, save_best_only=True)"
   ]
  },
  {
   "cell_type": "code",
   "execution_count": 69,
   "metadata": {
    "scrolled": false
   },
   "outputs": [
    {
     "name": "stdout",
     "output_type": "stream",
     "text": [
      "Train on 6680 samples, validate on 835 samples\n",
      "Epoch 1/10\n",
      " - 3s - loss: 0.0647 - acc: 0.9952 - val_loss: 0.6923 - val_acc: 0.8000\n",
      "Epoch 2/10\n",
      " - 4s - loss: 0.0521 - acc: 0.9954 - val_loss: 0.6716 - val_acc: 0.8000\n",
      "Epoch 3/10\n",
      " - 3s - loss: 0.0461 - acc: 0.9973 - val_loss: 0.6840 - val_acc: 0.7892\n",
      "Epoch 4/10\n",
      " - 3s - loss: 0.0392 - acc: 0.9970 - val_loss: 0.6905 - val_acc: 0.7952\n",
      "Epoch 5/10\n",
      " - 3s - loss: 0.0342 - acc: 0.9972 - val_loss: 0.7044 - val_acc: 0.7976\n",
      "Epoch 6/10\n",
      " - 3s - loss: 0.0310 - acc: 0.9976 - val_loss: 0.6888 - val_acc: 0.7976\n",
      "Epoch 7/10\n",
      " - 3s - loss: 0.0290 - acc: 0.9981 - val_loss: 0.7023 - val_acc: 0.7988\n",
      "Epoch 8/10\n",
      " - 3s - loss: 0.0245 - acc: 0.9984 - val_loss: 0.7132 - val_acc: 0.7964\n",
      "Epoch 9/10\n",
      " - 3s - loss: 0.0246 - acc: 0.9972 - val_loss: 0.7263 - val_acc: 0.8024\n",
      "Epoch 10/10\n",
      " - 3s - loss: 0.0235 - acc: 0.9978 - val_loss: 0.7079 - val_acc: 0.7988\n"
     ]
    },
    {
     "data": {
      "text/plain": [
       "<keras.callbacks.History at 0x2045144ddd8>"
      ]
     },
     "execution_count": 69,
     "metadata": {},
     "output_type": "execute_result"
    }
   ],
   "source": [
    "vgg16_model.fit(shuf_train, shuf_train_labels, \n",
    "                        validation_data=(shuf_val, shuf_val_labels),\n",
    "                        epochs=10, batch_size=32, callbacks=[checkpointer], verbose=2)"
   ]
  },
  {
   "cell_type": "markdown",
   "metadata": {},
   "source": [
    "### VGG19 Model"
   ]
  },
  {
   "cell_type": "code",
   "execution_count": 31,
   "metadata": {},
   "outputs": [],
   "source": [
    "from keras.applications.vgg19 import VGG19\n",
    "vgg19 = VGG19(include_top=False, weights='imagenet')"
   ]
  },
  {
   "cell_type": "code",
   "execution_count": 85,
   "metadata": {},
   "outputs": [],
   "source": [
    "vgg19_bottleneck = vgg19.predict_generator(resvgg_train_data, steps=1)\n",
    "vgg19_valid = vgg19.predict_generator(resvgg_valid_data, steps=1)"
   ]
  },
  {
   "cell_type": "code",
   "execution_count": 86,
   "metadata": {},
   "outputs": [],
   "source": [
    "shuf_train, shuf_train_labels = shuffle(vgg19_bottleneck, train_labels)\n",
    "shuf_val, shuf_val_labels = shuffle(vgg19_valid, valid_labels)"
   ]
  },
  {
   "cell_type": "code",
   "execution_count": 12,
   "metadata": {},
   "outputs": [],
   "source": [
    "vgg19_model = Sequential()\n",
    "vgg19_model.add(GlobalAveragePooling2D(input_shape=(None, None, 512)))\n",
    "vgg19_model.add(BatchNormalization())\n",
    "\n",
    "vgg19_model.add(Dense(133, activation='softmax'))\n",
    "vgg19_model.compile(optimizer=Adam(), loss='categorical_crossentropy', metrics=['accuracy'])"
   ]
  },
  {
   "cell_type": "code",
   "execution_count": 88,
   "metadata": {},
   "outputs": [],
   "source": [
    "checkpointer = ModelCheckpoint(filepath='saved_models/weights.best.vgg19.hdf5', \n",
    "                               verbose=0, save_best_only=True)"
   ]
  },
  {
   "cell_type": "code",
   "execution_count": 90,
   "metadata": {},
   "outputs": [
    {
     "name": "stdout",
     "output_type": "stream",
     "text": [
      "Train on 6680 samples, validate on 835 samples\n",
      "Epoch 1/10\n",
      " - 3s - loss: 0.0581 - acc: 0.9954 - val_loss: 0.7184 - val_acc: 0.7844\n",
      "Epoch 2/10\n",
      " - 3s - loss: 0.0472 - acc: 0.9970 - val_loss: 0.7210 - val_acc: 0.7964\n",
      "Epoch 3/10\n",
      " - 3s - loss: 0.0398 - acc: 0.9978 - val_loss: 0.7322 - val_acc: 0.7880\n",
      "Epoch 4/10\n",
      " - 3s - loss: 0.0402 - acc: 0.9967 - val_loss: 0.7499 - val_acc: 0.7832\n",
      "Epoch 5/10\n",
      " - 3s - loss: 0.0332 - acc: 0.9972 - val_loss: 0.7548 - val_acc: 0.7820\n",
      "Epoch 6/10\n",
      " - 3s - loss: 0.0285 - acc: 0.9981 - val_loss: 0.7546 - val_acc: 0.7868\n",
      "Epoch 7/10\n",
      " - 3s - loss: 0.0232 - acc: 0.9987 - val_loss: 0.7600 - val_acc: 0.7916\n",
      "Epoch 8/10\n",
      " - 3s - loss: 0.0240 - acc: 0.9975 - val_loss: 0.7543 - val_acc: 0.8036\n",
      "Epoch 9/10\n",
      " - 3s - loss: 0.0219 - acc: 0.9976 - val_loss: 0.7726 - val_acc: 0.7952\n",
      "Epoch 10/10\n",
      " - 3s - loss: 0.0213 - acc: 0.9982 - val_loss: 0.7824 - val_acc: 0.7880\n"
     ]
    },
    {
     "data": {
      "text/plain": [
       "<keras.callbacks.History at 0x2049b8caf98>"
      ]
     },
     "execution_count": 90,
     "metadata": {},
     "output_type": "execute_result"
    }
   ],
   "source": [
    "vgg19_model.fit(shuf_train, shuf_train_labels, \n",
    "                        validation_data=(shuf_val, shuf_val_labels),\n",
    "                        epochs=10, batch_size=32, callbacks=[checkpointer], verbose=2)"
   ]
  },
  {
   "cell_type": "markdown",
   "metadata": {},
   "source": [
    "### Fine-Tune VGG"
   ]
  },
  {
   "cell_type": "markdown",
   "metadata": {},
   "source": [
    "Use functional API to fine tune following the process outlined <a href=https://www.kaggle.com/chmaxx/finetune-vgg16-0-97-with-minimal-effort>here.</a> Unfortunately after finetuning the model there is only about a 1% increase in accuracy while drastically increasing the training time.\n",
    "\n",
    "And further, VGG is the only model we seem to be able to fine tune in Keras. Attempts to fine tune any of the models with Batch Normalization give much lower training accuracy than what has been shown with the current training process. After some investigation this seems to be bug with Keras or at least several people have run into the same problem and no resolution to the issue has been found."
   ]
  },
  {
   "cell_type": "code",
   "execution_count": 20,
   "metadata": {},
   "outputs": [],
   "source": [
    "# Keep same architechture as before\n",
    "x = vgg19.get_layer('block5_pool').output\n",
    "x = GlobalAveragePooling2D()(x)\n",
    "x = BatchNormalization()(x)\n",
    "x = Dense(133, activation='softmax')(x)\n",
    "\n",
    "vgg19_finetune = Model(vgg19.input, x)"
   ]
  },
  {
   "cell_type": "code",
   "execution_count": 22,
   "metadata": {},
   "outputs": [],
   "source": [
    "# Freeze Convolutional layers to train top model first\n",
    "for layer in vgg19.layers:\n",
    "    layer.trainable = False"
   ]
  },
  {
   "cell_type": "code",
   "execution_count": 23,
   "metadata": {},
   "outputs": [],
   "source": [
    "vgg19_finetune.compile(optimizer=Adam(), loss='categorical_crossentropy', metrics=['accuracy'])"
   ]
  },
  {
   "cell_type": "code",
   "execution_count": 24,
   "metadata": {},
   "outputs": [
    {
     "name": "stdout",
     "output_type": "stream",
     "text": [
      "Found 6680 images belonging to 133 classes.\n",
      "Found 835 images belonging to 133 classes.\n"
     ]
    }
   ],
   "source": [
    "finetune_train_data = resvgg_generator_da.flow_from_directory(train_data_path,\n",
    "                                                       target_size=(350, 350),\n",
    "                                                       batch_size=batch_size,\n",
    "                                                       shuffle=True,\n",
    "                                                       class_mode='categorical')\n",
    "\n",
    "finetune_valid_data = resvgg_generator_da.flow_from_directory(valid_data_path,\n",
    "                                                           target_size=(350, 350),\n",
    "                                                           batch_size=batch_size,\n",
    "                                                           shuffle=True,\n",
    "                                                           class_mode='categorical')"
   ]
  },
  {
   "cell_type": "code",
   "execution_count": 26,
   "metadata": {},
   "outputs": [
    {
     "name": "stdout",
     "output_type": "stream",
     "text": [
      "Epoch 1/10\n",
      " - 253s - loss: 0.1324 - acc: 0.9723 - val_loss: 0.7208 - val_acc: 0.7916\n",
      "Epoch 2/10\n",
      " - 252s - loss: 0.1177 - acc: 0.9759 - val_loss: 0.6880 - val_acc: 0.7940\n",
      "Epoch 3/10\n",
      " - 236s - loss: 0.1015 - acc: 0.9776 - val_loss: 0.7105 - val_acc: 0.7964\n",
      "Epoch 4/10\n",
      " - 223s - loss: 0.0929 - acc: 0.9833 - val_loss: 0.7500 - val_acc: 0.7868\n",
      "Epoch 5/10\n",
      " - 229s - loss: 0.0861 - acc: 0.9833 - val_loss: 0.7915 - val_acc: 0.7832\n",
      "Epoch 6/10\n",
      " - 244s - loss: 0.0834 - acc: 0.9821 - val_loss: 0.7618 - val_acc: 0.7832\n",
      "Epoch 7/10\n",
      " - 242s - loss: 0.0731 - acc: 0.9845 - val_loss: 0.7543 - val_acc: 0.7844\n",
      "Epoch 8/10\n",
      " - 224s - loss: 0.0654 - acc: 0.9865 - val_loss: 0.7502 - val_acc: 0.7904\n",
      "Epoch 9/10\n",
      " - 221s - loss: 0.0619 - acc: 0.9885 - val_loss: 0.8143 - val_acc: 0.7653\n",
      "Epoch 10/10\n",
      " - 235s - loss: 0.0652 - acc: 0.9868 - val_loss: 0.7650 - val_acc: 0.7952\n"
     ]
    },
    {
     "data": {
      "text/plain": [
       "<keras.callbacks.History at 0x1cbba481a90>"
      ]
     },
     "execution_count": 26,
     "metadata": {},
     "output_type": "execute_result"
    }
   ],
   "source": [
    "vgg19_finetune.fit_generator(finetune_train_data, steps_per_epoch=(1+train_samples//batch_size), epochs=10,\n",
    "                    verbose=2, \n",
    "                    validation_data=finetune_valid_data,\n",
    "                    validation_steps=(1+validation_samples//batch_size))"
   ]
  },
  {
   "cell_type": "code",
   "execution_count": 34,
   "metadata": {},
   "outputs": [
    {
     "data": {
      "text/plain": [
       "17"
      ]
     },
     "execution_count": 34,
     "metadata": {},
     "output_type": "execute_result"
    }
   ],
   "source": [
    "layers = vgg19_finetune.layers\n",
    "layers.index(vgg19_finetune.get_layer('block5_conv1'))"
   ]
  },
  {
   "cell_type": "code",
   "execution_count": 32,
   "metadata": {},
   "outputs": [],
   "source": [
    "for layer in vgg19_finetune.layers[:17]:\n",
    "    layer.trainable = False\n",
    "for layer in vgg19_finetune.layers[17:]:\n",
    "    layer.trainable = True"
   ]
  },
  {
   "cell_type": "code",
   "execution_count": 36,
   "metadata": {},
   "outputs": [],
   "source": [
    "vgg19_finetune.compile(optimizer=SGD(lr=0.0001, momentum=0.9),  loss='categorical_crossentropy', metrics=['accuracy'])"
   ]
  },
  {
   "cell_type": "code",
   "execution_count": 37,
   "metadata": {},
   "outputs": [],
   "source": [
    "checkpointer = ModelCheckpoint(filepath='saved_models/weights.best.vgg19ft.hdf5', \n",
    "                               verbose=0, save_best_only=True)"
   ]
  },
  {
   "cell_type": "code",
   "execution_count": 38,
   "metadata": {},
   "outputs": [
    {
     "name": "stdout",
     "output_type": "stream",
     "text": [
      "Epoch 1/10\n",
      " - 236s - loss: 0.0524 - acc: 0.9901 - val_loss: 0.7355 - val_acc: 0.7976\n",
      "Epoch 2/10\n",
      " - 232s - loss: 0.0421 - acc: 0.9929 - val_loss: 0.6979 - val_acc: 0.8024\n",
      "Epoch 3/10\n",
      " - 244s - loss: 0.0403 - acc: 0.9922 - val_loss: 0.7089 - val_acc: 0.8024\n",
      "Epoch 4/10\n",
      " - 251s - loss: 0.0373 - acc: 0.9936 - val_loss: 0.7016 - val_acc: 0.8060\n",
      "Epoch 5/10\n",
      " - 245s - loss: 0.0349 - acc: 0.9940 - val_loss: 0.6989 - val_acc: 0.8024\n",
      "Epoch 6/10\n",
      " - 242s - loss: 0.0313 - acc: 0.9945 - val_loss: 0.6767 - val_acc: 0.8216\n",
      "Epoch 7/10\n",
      " - 233s - loss: 0.0312 - acc: 0.9953 - val_loss: 0.6871 - val_acc: 0.8084\n",
      "Epoch 8/10\n",
      " - 254s - loss: 0.0287 - acc: 0.9949 - val_loss: 0.7443 - val_acc: 0.8060\n",
      "Epoch 9/10\n",
      " - 246s - loss: 0.0283 - acc: 0.9955 - val_loss: 0.6948 - val_acc: 0.7928\n",
      "Epoch 10/10\n",
      " - 248s - loss: 0.0284 - acc: 0.9957 - val_loss: 0.6728 - val_acc: 0.8180\n"
     ]
    },
    {
     "data": {
      "text/plain": [
       "<keras.callbacks.History at 0x1cd5e94c550>"
      ]
     },
     "execution_count": 38,
     "metadata": {},
     "output_type": "execute_result"
    }
   ],
   "source": [
    "vgg19_finetune.fit_generator(finetune_train_data, steps_per_epoch=(1+train_samples//batch_size), epochs=10,\n",
    "                    verbose=2, \n",
    "                    validation_data=finetune_valid_data,\n",
    "                    validation_steps=(1+validation_samples//batch_size))"
   ]
  },
  {
   "cell_type": "markdown",
   "metadata": {},
   "source": [
    "### ResNet Model"
   ]
  },
  {
   "cell_type": "code",
   "execution_count": 13,
   "metadata": {},
   "outputs": [],
   "source": [
    "from keras.applications.resnet50 import ResNet50\n",
    "resnet = ResNet50(include_top=False, weights='imagenet')"
   ]
  },
  {
   "cell_type": "code",
   "execution_count": 73,
   "metadata": {},
   "outputs": [],
   "source": [
    "resnet_bottleneck = resnet.predict_generator(resvgg_train_data, steps=1)\n",
    "resnet_valid = resnet.predict_generator(resvgg_valid_data, steps=1)"
   ]
  },
  {
   "cell_type": "code",
   "execution_count": 74,
   "metadata": {},
   "outputs": [],
   "source": [
    "shuf_train, shuf_train_labels = shuffle(resnet_bottleneck, train_labels)\n",
    "shuf_val, shuf_val_labels = shuffle(resnet_valid, valid_labels)"
   ]
  },
  {
   "cell_type": "code",
   "execution_count": 14,
   "metadata": {},
   "outputs": [],
   "source": [
    "resnet_model = Sequential()\n",
    "resnet_model.add(GlobalAveragePooling2D(input_shape=(None, None, 2048)))\n",
    "resnet_model.add(BatchNormalization())\n",
    "\n",
    "resnet_model.add(Dense(133, activation='softmax'))\n",
    "resnet_model.compile(optimizer=Adam(), loss='categorical_crossentropy', metrics=['accuracy'])"
   ]
  },
  {
   "cell_type": "code",
   "execution_count": 80,
   "metadata": {},
   "outputs": [],
   "source": [
    "checkpointer = ModelCheckpoint(filepath='saved_models/weights.best.resnet.hdf5', \n",
    "                               verbose=0, save_best_only=True)"
   ]
  },
  {
   "cell_type": "code",
   "execution_count": 82,
   "metadata": {},
   "outputs": [
    {
     "name": "stdout",
     "output_type": "stream",
     "text": [
      "Train on 6680 samples, validate on 835 samples\n",
      "Epoch 1/10\n",
      " - 3s - loss: 0.0211 - acc: 0.9978 - val_loss: 0.8427 - val_acc: 0.7796\n",
      "Epoch 2/10\n",
      " - 3s - loss: 0.0158 - acc: 0.9982 - val_loss: 0.8752 - val_acc: 0.7665\n",
      "Epoch 3/10\n",
      " - 3s - loss: 0.0179 - acc: 0.9978 - val_loss: 0.9030 - val_acc: 0.7701\n",
      "Epoch 4/10\n",
      " - 3s - loss: 0.0180 - acc: 0.9979 - val_loss: 0.8756 - val_acc: 0.7796\n",
      "Epoch 5/10\n",
      " - 3s - loss: 0.0121 - acc: 0.9982 - val_loss: 0.8919 - val_acc: 0.7737\n",
      "Epoch 6/10\n",
      " - 3s - loss: 0.0142 - acc: 0.9984 - val_loss: 0.8654 - val_acc: 0.7916\n",
      "Epoch 7/10\n",
      " - 2s - loss: 0.0129 - acc: 0.9987 - val_loss: 0.9034 - val_acc: 0.7760\n",
      "Epoch 8/10\n",
      " - 2s - loss: 0.0218 - acc: 0.9972 - val_loss: 0.8933 - val_acc: 0.7904\n",
      "Epoch 9/10\n",
      " - 2s - loss: 0.0223 - acc: 0.9970 - val_loss: 0.9916 - val_acc: 0.7605\n",
      "Epoch 10/10\n",
      " - 2s - loss: 0.0396 - acc: 0.9906 - val_loss: 1.1564 - val_acc: 0.7449\n"
     ]
    },
    {
     "data": {
      "text/plain": [
       "<keras.callbacks.History at 0x2048e8e5f98>"
      ]
     },
     "execution_count": 82,
     "metadata": {},
     "output_type": "execute_result"
    }
   ],
   "source": [
    "resnet_model.fit(shuf_train, shuf_train_labels, \n",
    "                        validation_data=(shuf_val, shuf_val_labels),\n",
    "                        epochs=10, batch_size=32, callbacks=[checkpointer], verbose=2)"
   ]
  },
  {
   "cell_type": "markdown",
   "metadata": {},
   "source": [
    "### Xception Model"
   ]
  },
  {
   "cell_type": "code",
   "execution_count": 14,
   "metadata": {},
   "outputs": [],
   "source": [
    "from keras.applications.xception import Xception, preprocess_input\n",
    "xception = Xception(include_top=False, weights='imagenet')"
   ]
  },
  {
   "cell_type": "code",
   "execution_count": 83,
   "metadata": {},
   "outputs": [],
   "source": [
    "xception_bottleneck = xception.predict_generator(inception_train_data, steps=1)\n",
    "xception_valid = xception.predict_generator(inception_valid_data, steps=1)"
   ]
  },
  {
   "cell_type": "code",
   "execution_count": 84,
   "metadata": {},
   "outputs": [],
   "source": [
    "shuf_train, shuf_train_labels = shuffle(xception_bottleneck, train_labels)\n",
    "shuf_val, shuf_val_labels = shuffle(xception_valid, valid_labels)"
   ]
  },
  {
   "cell_type": "code",
   "execution_count": 15,
   "metadata": {},
   "outputs": [],
   "source": [
    "xception_model = Sequential()\n",
    "xception_model.add(GlobalAveragePooling2D(input_shape=(None, None, 2048)))\n",
    "xception_model.add(BatchNormalization())\n",
    "\n",
    "xception_model.add(Dense(133, activation='softmax'))\n",
    "xception_model.compile(optimizer=Adam(), loss='categorical_crossentropy', metrics=['accuracy'])"
   ]
  },
  {
   "cell_type": "code",
   "execution_count": 111,
   "metadata": {},
   "outputs": [],
   "source": [
    "checkpointer = ModelCheckpoint(filepath='saved_models/weights.best.xception.hdf5', \n",
    "                               verbose=0, save_best_only=True)"
   ]
  },
  {
   "cell_type": "code",
   "execution_count": 112,
   "metadata": {},
   "outputs": [
    {
     "name": "stdout",
     "output_type": "stream",
     "text": [
      "Train on 6680 samples, validate on 835 samples\n",
      "Epoch 1/10\n",
      " - 43s - loss: 0.8361 - acc: 0.7840 - val_loss: 1.0529 - val_acc: 0.8659\n",
      "Epoch 2/10\n",
      " - 34s - loss: 0.2171 - acc: 0.9301 - val_loss: 0.3965 - val_acc: 0.8731\n",
      "Epoch 3/10\n",
      " - 30s - loss: 0.1255 - acc: 0.9581 - val_loss: 0.4012 - val_acc: 0.8850\n",
      "Epoch 4/10\n",
      " - 33s - loss: 0.0898 - acc: 0.9753 - val_loss: 0.3887 - val_acc: 0.9030\n",
      "Epoch 5/10\n",
      " - 32s - loss: 0.0650 - acc: 0.9798 - val_loss: 0.4081 - val_acc: 0.8970\n",
      "Epoch 6/10\n",
      " - 33s - loss: 0.0450 - acc: 0.9856 - val_loss: 0.3987 - val_acc: 0.9066\n",
      "Epoch 7/10\n",
      " - 34s - loss: 0.0345 - acc: 0.9903 - val_loss: 0.3981 - val_acc: 0.9054\n",
      "Epoch 8/10\n",
      " - 33s - loss: 0.0270 - acc: 0.9931 - val_loss: 0.4116 - val_acc: 0.9042\n",
      "Epoch 9/10\n",
      " - 33s - loss: 0.0346 - acc: 0.9913 - val_loss: 0.4382 - val_acc: 0.8958\n",
      "Epoch 10/10\n",
      " - 33s - loss: 0.0281 - acc: 0.9939 - val_loss: 0.4461 - val_acc: 0.9162\n"
     ]
    },
    {
     "data": {
      "text/plain": [
       "<keras.callbacks.History at 0x2a403db34e0>"
      ]
     },
     "execution_count": 112,
     "metadata": {},
     "output_type": "execute_result"
    }
   ],
   "source": [
    "xception_model.fit(shuf_train, shuf_train_labels, \n",
    "                        validation_data=(shuf_val, shuf_val_labels),\n",
    "                        epochs=10, batch_size=32, callbacks=[checkpointer], verbose=2)"
   ]
  },
  {
   "cell_type": "markdown",
   "metadata": {},
   "source": [
    "### Inception-ResNet"
   ]
  },
  {
   "cell_type": "code",
   "execution_count": 16,
   "metadata": {},
   "outputs": [],
   "source": [
    "from keras.applications.inception_resnet_v2 import InceptionResNetV2, preprocess_input\n",
    "inceptionresnet = InceptionResNetV2(include_top=False, weights='imagenet')"
   ]
  },
  {
   "cell_type": "code",
   "execution_count": 120,
   "metadata": {},
   "outputs": [],
   "source": [
    "inceptionresnet_bottleneck = inceptionresnet.predict_generator(inception_train_data, steps=1)\n",
    "inceptionresnet_valid = inceptionresnet.predict_generator(inception_valid_data, steps=1)"
   ]
  },
  {
   "cell_type": "code",
   "execution_count": 121,
   "metadata": {},
   "outputs": [],
   "source": [
    "shuf_train, shuf_train_labels = shuffle(inceptionresnet_bottleneck, train_labels)\n",
    "shuf_val, shuf_val_labels = shuffle(inceptionresnet_valid, valid_labels)"
   ]
  },
  {
   "cell_type": "code",
   "execution_count": 17,
   "metadata": {},
   "outputs": [],
   "source": [
    "inceptionresnet_model = Sequential()\n",
    "inceptionresnet_model.add(GlobalAveragePooling2D(input_shape=(None, None, 1536)))\n",
    "inceptionresnet_model.add(BatchNormalization())\n",
    "\n",
    "inceptionresnet_model.add(Dense(133, activation='softmax'))\n",
    "inceptionresnet_model.compile(optimizer=Adam(), loss='categorical_crossentropy', metrics=['accuracy'])"
   ]
  },
  {
   "cell_type": "code",
   "execution_count": 147,
   "metadata": {},
   "outputs": [],
   "source": [
    "checkpointer = ModelCheckpoint(filepath='saved_models/weights.best.inceptionresnet6.hdf5', \n",
    "                               verbose=0, save_best_only=True)"
   ]
  },
  {
   "cell_type": "code",
   "execution_count": 149,
   "metadata": {},
   "outputs": [
    {
     "name": "stdout",
     "output_type": "stream",
     "text": [
      "Train on 6680 samples, validate on 835 samples\n",
      "Epoch 1/10\n",
      " - 6s - loss: 0.0600 - acc: 0.9801 - val_loss: 0.4551 - val_acc: 0.8946\n",
      "Epoch 2/10\n",
      " - 6s - loss: 0.0524 - acc: 0.9843 - val_loss: 0.5055 - val_acc: 0.8898\n",
      "Epoch 3/10\n",
      " - 6s - loss: 0.0539 - acc: 0.9831 - val_loss: 0.4982 - val_acc: 0.9006\n",
      "Epoch 4/10\n",
      " - 6s - loss: 0.0658 - acc: 0.9802 - val_loss: 0.5701 - val_acc: 0.8922\n",
      "Epoch 5/10\n",
      " - 6s - loss: 0.0656 - acc: 0.9804 - val_loss: 0.6207 - val_acc: 0.8910\n",
      "Epoch 6/10\n",
      " - 6s - loss: 0.0579 - acc: 0.9811 - val_loss: 0.5076 - val_acc: 0.8886\n",
      "Epoch 7/10\n",
      " - 6s - loss: 0.0565 - acc: 0.9826 - val_loss: 0.5696 - val_acc: 0.8862\n",
      "Epoch 8/10\n",
      " - 7s - loss: 0.0450 - acc: 0.9853 - val_loss: 0.5189 - val_acc: 0.8922\n",
      "Epoch 9/10\n",
      " - 6s - loss: 0.0445 - acc: 0.9862 - val_loss: 0.5866 - val_acc: 0.9018\n",
      "Epoch 10/10\n",
      " - 6s - loss: 0.0613 - acc: 0.9831 - val_loss: 0.6137 - val_acc: 0.8994\n"
     ]
    },
    {
     "data": {
      "text/plain": [
       "<keras.callbacks.History at 0x2a46f02f7b8>"
      ]
     },
     "execution_count": 149,
     "metadata": {},
     "output_type": "execute_result"
    }
   ],
   "source": [
    "inceptionresnet_model.fit(shuf_train, shuf_train_labels, \n",
    "                        validation_data=(shuf_val, shuf_val_labels),\n",
    "                        epochs=10, batch_size=32, callbacks=[checkpointer], verbose=2)"
   ]
  },
  {
   "cell_type": "markdown",
   "metadata": {},
   "source": [
    "## Organize Models into an Ensemble"
   ]
  },
  {
   "cell_type": "markdown",
   "metadata": {},
   "source": [
    "### Hybrid Ensemble"
   ]
  },
  {
   "cell_type": "markdown",
   "metadata": {},
   "source": [
    "To organize all the models into an ensemble The predictions for the test data from each model are averaged and compared to the labels.\n",
    "\n",
    "This process is outlined in the fast.ai <a href='http://course.fast.ai/'>courses</a>."
   ]
  },
  {
   "cell_type": "code",
   "execution_count": 75,
   "metadata": {},
   "outputs": [],
   "source": [
    "feature_extractors = {'inception_model': inception,\n",
    "                      'xception_model': xception,\n",
    "                      'inceptionresnet_model': inceptionresnet}\n",
    "\n",
    "resvgg_extractors = {'vgg16_model': vgg16,\n",
    "                     'vgg19_model': vgg19,\n",
    "                     'resnet_model': resnet}\n",
    "\n",
    "models = {'inception_model': inception_model,\n",
    "         'vgg16_model': vgg16_model,\n",
    "         'vgg19_model': vgg19_model,\n",
    "         'resnet_model': resnet_model,\n",
    "         'xception_model': xception_model,\n",
    "         'inceptionresnet_model': inceptionresnet_model}\n",
    "\n",
    "weights = {'inception_model': 'saved_models/weights.best.inception4.hdf5',\n",
    "         'vgg16_model': 'saved_models/weights.best.vgg16.hdf5',\n",
    "         'vgg19_model': 'saved_models/weights.best.vgg19.hdf5',\n",
    "         'resnet_model': 'saved_models/weights.best.resnet.hdf5',\n",
    "         'xception_model': 'saved_models/weights.best.xception.hdf5',\n",
    "         'inceptionresnet_model': 'saved_models/weights.best.inceptionresnet.hdf5'}"
   ]
  },
  {
   "cell_type": "code",
   "execution_count": 76,
   "metadata": {},
   "outputs": [],
   "source": [
    "for key in models.keys():\n",
    "    models[key].load_weights(weights[key])"
   ]
  },
  {
   "cell_type": "code",
   "execution_count": 18,
   "metadata": {},
   "outputs": [
    {
     "name": "stdout",
     "output_type": "stream",
     "text": [
      "Found 836 images belonging to 133 classes.\n",
      "Found 836 images belonging to 133 classes.\n"
     ]
    }
   ],
   "source": [
    "inception_test_data = inception_generator.flow_from_directory(test_data_path,\n",
    "                                                           target_size=(350, 350),\n",
    "                                                           batch_size=batch_size,\n",
    "                                                           shuffle=False,\n",
    "                                                           class_mode='categorical')\n",
    "\n",
    "resvgg_test_data = resvgg_generator.flow_from_directory(test_data_path,\n",
    "                                                           target_size=(350, 350),\n",
    "                                                           batch_size=batch_size,\n",
    "                                                           shuffle=False,\n",
    "                                                           class_mode='categorical')\n",
    "test_samples = len(inception_test_data.filenames)\n",
    "test_labels = to_categorical(inception_test_data.classes)"
   ]
  },
  {
   "cell_type": "code",
   "execution_count": 78,
   "metadata": {},
   "outputs": [],
   "source": [
    "# get bottle neck features on test set\n",
    "predictions = []\n",
    "for key in models.keys():\n",
    "    if key in feature_extractors:\n",
    "        features = feature_extractors[key].predict_generator(inception_test_data, steps=1)\n",
    "        prediction = models[key].predict(features)\n",
    "        predictions.append(prediction)\n",
    "\n",
    "# get model predictions on bottleneck features"
   ]
  },
  {
   "cell_type": "code",
   "execution_count": 79,
   "metadata": {},
   "outputs": [],
   "source": [
    "# Take weighted average\n",
    "# Evaluate predictions\n",
    "predictions = np.stack(predictions)"
   ]
  },
  {
   "cell_type": "code",
   "execution_count": 80,
   "metadata": {},
   "outputs": [],
   "source": [
    "test_pred = np.mean(predictions, axis=0, keepdims=True)"
   ]
  },
  {
   "cell_type": "code",
   "execution_count": 81,
   "metadata": {},
   "outputs": [],
   "source": [
    "import keras.backend as K"
   ]
  },
  {
   "cell_type": "code",
   "execution_count": 82,
   "metadata": {},
   "outputs": [
    {
     "data": {
      "text/plain": [
       "0.90909094"
      ]
     },
     "execution_count": 82,
     "metadata": {},
     "output_type": "execute_result"
    }
   ],
   "source": [
    "K.eval(keras.metrics.categorical_accuracy(test_labels, test_pred)).mean()"
   ]
  },
  {
   "cell_type": "markdown",
   "metadata": {},
   "source": [
    "### Inception Based Ensemble"
   ]
  },
  {
   "cell_type": "markdown",
   "metadata": {},
   "source": [
    "The Hybrid Ensemble gets up to about 91% which is ok, but the inception based models were already up close to that, while the other models were only reaching about 80% accuracy. For this reason I decided to try an ensemble with multiple version of the inception based models.\n",
    "\n",
    "This boosted the accuracy of the model further to 93.6%."
   ]
  },
  {
   "cell_type": "code",
   "execution_count": 19,
   "metadata": {},
   "outputs": [],
   "source": [
    "inception_features = inception.predict_generator(inception_test_data, steps=1)\n",
    "xception_features = xception.predict_generator(inception_test_data, steps=1)\n",
    "inceptionresnet_features = inceptionresnet.predict_generator(inception_test_data, steps=1)"
   ]
  },
  {
   "cell_type": "code",
   "execution_count": 20,
   "metadata": {},
   "outputs": [],
   "source": [
    "inception_weights = [\n",
    "    'saved_models/weights.best.inception.hdf5',\n",
    "    'saved_models/weights.best.inception2.hdf5',\n",
    "    'saved_models/weights.best.inception3.hdf5',\n",
    "    'saved_models/weights.best.inception4.hdf5',\n",
    "    'saved_models/weights.best.inception5.hdf5',\n",
    "    'saved_models/weights.best.inception6.hdf5'\n",
    "]\n",
    "\n",
    "xception_weights = [\n",
    "    'saved_models/weights.best.xception.hdf5',\n",
    "    'saved_models/weights.best.xception2.hdf5',\n",
    "    'saved_models/weights.best.xception3.hdf5',\n",
    "    'saved_models/weights.best.xception4.hdf5',\n",
    "    'saved_models/weights.best.xception5.hdf5',\n",
    "    'saved_models/weights.best.xception6.hdf5'\n",
    "]\n",
    "\n",
    "inceptionresnet_weights = [\n",
    "    'saved_models/weights.best.inceptionresnet.hdf5',\n",
    "    'saved_models/weights.best.inceptionresnet2.hdf5',\n",
    "    'saved_models/weights.best.inceptionresnet3.hdf5',\n",
    "    'saved_models/weights.best.inceptionresnet4.hdf5',\n",
    "    'saved_models/weights.best.inceptionresnet5.hdf5',\n",
    "    'saved_models/weights.best.inceptionresnet6.hdf5'\n",
    "]\n",
    "\n",
    "predictions = np.zeros((test_samples, 133), dtype=np.float)\n",
    "\n",
    "for weight_path in inception_weights:\n",
    "    inception_model.load_weights(weight_path)\n",
    "    model_prediction = inception_model.predict(inception_features)\n",
    "    predictions += model_prediction\n",
    "for weight_path in xception_weights:\n",
    "    xception_model.load_weights(weight_path)\n",
    "    model_prediction = xception_model.predict(xception_features)\n",
    "    predictions += model_prediction\n",
    "for weight_path in inceptionresnet_weights:\n",
    "    inceptionresnet_model.load_weights(weight_path)\n",
    "    model_prediction = inceptionresnet_model.predict(inceptionresnet_features)\n",
    "    predictions += model_prediction\n",
    "\n",
    "predictions /= 18"
   ]
  },
  {
   "cell_type": "code",
   "execution_count": 21,
   "metadata": {},
   "outputs": [],
   "source": [
    "import keras.backend as K\n",
    "scores = K.eval(keras.metrics.categorical_accuracy(test_labels, predictions))"
   ]
  },
  {
   "cell_type": "code",
   "execution_count": 22,
   "metadata": {},
   "outputs": [
    {
     "data": {
      "text/plain": [
       "0.93660289"
      ]
     },
     "execution_count": 22,
     "metadata": {},
     "output_type": "execute_result"
    }
   ],
   "source": [
    "scores.mean()"
   ]
  },
  {
   "cell_type": "markdown",
   "metadata": {},
   "source": [
    "### Looking at the Model Errors"
   ]
  },
  {
   "cell_type": "code",
   "execution_count": 23,
   "metadata": {},
   "outputs": [],
   "source": [
    "from sklearn.datasets import load_files\n",
    "data = load_files(test_data_path, shuffle=False)\n",
    "test_files = np.array(data['filenames'])"
   ]
  },
  {
   "cell_type": "code",
   "execution_count": 24,
   "metadata": {},
   "outputs": [],
   "source": [
    "wrong_images = []\n",
    "for i, answer in enumerate(scores):\n",
    "    if answer == 0:\n",
    "        correct_dog = dog_names[np.argmax(test_labels[i])] + ': ' + str(predictions[i][np.argmax(test_labels[i])])\n",
    "        dog_prediction = dog_names[np.argmax(predictions[i])]+ ': ' + str(np.max(predictions[i]))\n",
    "        \n",
    "        wrong_images.append((correct_dog, dog_prediction, test_files[i]))"
   ]
  },
  {
   "cell_type": "markdown",
   "metadata": {},
   "source": [
    "Below is a list of the misclassified images with the prediction value for the correct breed, followed by the prediction value for the predicted breed, followed by the file of the actual image.\n",
    "\n",
    "It is reassuring that the wrong predictions appear to be for breeds that look quite similar to the correct breed. We also see that the prediction value for the correct breed is often still pretty high, even if it wasn't the highest value."
   ]
  },
  {
   "cell_type": "code",
   "execution_count": 25,
   "metadata": {},
   "outputs": [
    {
     "data": {
      "text/plain": [
       "[('Affenpinscher: 0.0723859019502',\n",
       "  'Havanese: 0.592816216043',\n",
       "  'dogImages/test/001.Affenpinscher\\\\Affenpinscher_00058.jpg'),\n",
       " ('American_foxhound: 0.116203999127',\n",
       "  'Beagle: 0.881220284435',\n",
       "  'dogImages/test/007.American_foxhound\\\\American_foxhound_00524.jpg'),\n",
       " ('American_water_spaniel: 0.250119773949',\n",
       "  'Boykin_spaniel: 0.649206562175',\n",
       "  'dogImages/test/009.American_water_spaniel\\\\American_water_spaniel_00624.jpg'),\n",
       " ('Australian_cattle_dog: 0.250413881149',\n",
       "  'Canaan_dog: 0.67557344834',\n",
       "  'dogImages/test/011.Australian_cattle_dog\\\\Australian_cattle_dog_00761.jpg'),\n",
       " ('Australian_shepherd: 0.270271796759',\n",
       "  'Border_collie: 0.463511261675',\n",
       "  'dogImages/test/012.Australian_shepherd\\\\Australian_shepherd_00868.jpg'),\n",
       " ('Black_russian_terrier: 0.300719369048',\n",
       "  'Portuguese_water_dog: 0.442908981983',\n",
       "  'dogImages/test/026.Black_russian_terrier\\\\Black_russian_terrier_01827.jpg'),\n",
       " ('Bluetick_coonhound: 0.0372440269372',\n",
       "  'Pointer: 0.332300558402',\n",
       "  'dogImages/test/028.Bluetick_coonhound\\\\Bluetick_coonhound_01968.jpg'),\n",
       " ('Brittany: 0.0886546824375',\n",
       "  'Welsh_springer_spaniel: 0.460033175432',\n",
       "  'dogImages/test/037.Brittany\\\\Brittany_02607.jpg'),\n",
       " ('Cane_corso: 0.209250953913',\n",
       "  'Boxer: 0.623807925731',\n",
       "  'dogImages/test/044.Cane_corso\\\\Cane_corso_03114.jpg'),\n",
       " ('Cardigan_welsh_corgi: 0.0800161400552',\n",
       "  'Pembroke_welsh_corgi: 0.723006093668',\n",
       "  'dogImages/test/045.Cardigan_welsh_corgi\\\\Cardigan_welsh_corgi_03202.jpg'),\n",
       " ('Cavalier_king_charles_spaniel: 0.135604400486',\n",
       "  'Gordon_setter: 0.81196939076',\n",
       "  'dogImages/test/046.Cavalier_king_charles_spaniel\\\\Cavalier_king_charles_spaniel_03294.jpg'),\n",
       " ('Chihuahua: 0.104299604071',\n",
       "  'Norwegian_buhund: 0.54928533663',\n",
       "  'dogImages/test/048.Chihuahua\\\\Chihuahua_03403.jpg'),\n",
       " ('Doberman_pinscher: 0.195383851623',\n",
       "  'Beauceron: 0.509023196167',\n",
       "  'dogImages/test/059.Doberman_pinscher\\\\Doberman_pinscher_04194.jpg'),\n",
       " ('English_cocker_spaniel: 0.0479021549035',\n",
       "  'Gordon_setter: 0.664858317313',\n",
       "  'dogImages/test/061.English_cocker_spaniel\\\\English_cocker_spaniel_04322.jpg'),\n",
       " ('English_cocker_spaniel: 0.11893645782',\n",
       "  'English_springer_spaniel: 0.771950207651',\n",
       "  'dogImages/test/061.English_cocker_spaniel\\\\English_cocker_spaniel_04323.jpg'),\n",
       " ('English_cocker_spaniel: 0.235211091174',\n",
       "  'Cocker_spaniel: 0.760298713628',\n",
       "  'dogImages/test/061.English_cocker_spaniel\\\\English_cocker_spaniel_04354.jpg'),\n",
       " ('English_springer_spaniel: 0.0103569810697',\n",
       "  'Belgian_malinois: 0.737163090871',\n",
       "  'dogImages/test/063.English_springer_spaniel\\\\English_springer_spaniel_04486.jpg'),\n",
       " ('English_toy_spaniel: 0.0772671297853',\n",
       "  'Cavalier_king_charles_spaniel: 0.921342336469',\n",
       "  'dogImages/test/064.English_toy_spaniel\\\\English_toy_spaniel_04513.jpg'),\n",
       " ('English_toy_spaniel: 0.495178226019',\n",
       "  'Cavalier_king_charles_spaniel: 0.497961629182',\n",
       "  'dogImages/test/064.English_toy_spaniel\\\\English_toy_spaniel_04532.jpg'),\n",
       " ('Field_spaniel: 0.208788413606',\n",
       "  'English_cocker_spaniel: 0.66440030891',\n",
       "  'dogImages/test/066.Field_spaniel\\\\Field_spaniel_04616.jpg'),\n",
       " ('Finnish_spitz: 0.265328018719',\n",
       "  'Icelandic_sheepdog: 0.679710914691',\n",
       "  'dogImages/test/067.Finnish_spitz\\\\Finnish_spitz_04661.jpg'),\n",
       " ('Flat-coated_retriever: 0.20809178034',\n",
       "  'Newfoundland: 0.469552640966',\n",
       "  'dogImages/test/068.Flat-coated_retriever\\\\Flat-coated_retriever_04745.jpg'),\n",
       " ('German_shepherd_dog: 0.205309801701',\n",
       "  'Norwegian_elkhound: 0.667916487488',\n",
       "  'dogImages/test/071.German_shepherd_dog\\\\German_shepherd_dog_04960.jpg'),\n",
       " ('German_shorthaired_pointer: 0.324851795542',\n",
       "  'Pointer: 0.59252109628',\n",
       "  'dogImages/test/072.German_shorthaired_pointer\\\\German_shorthaired_pointer_04971.jpg'),\n",
       " ('German_shorthaired_pointer: 0.197621030101',\n",
       "  'Pointer: 0.719650773538',\n",
       "  'dogImages/test/072.German_shorthaired_pointer\\\\German_shorthaired_pointer_04981.jpg'),\n",
       " ('German_wirehaired_pointer: 0.0938460723068',\n",
       "  'Wirehaired_pointing_griffon: 0.774244668273',\n",
       "  'dogImages/test/073.German_wirehaired_pointer\\\\German_wirehaired_pointer_05043.jpg'),\n",
       " ('Great_dane: 0.184377800156',\n",
       "  'Anatolian_shepherd_dog: 0.464541401507',\n",
       "  'dogImages/test/078.Great_dane\\\\Great_dane_05326.jpg'),\n",
       " ('Great_pyrenees: 0.211387050752',\n",
       "  'Kuvasz: 0.325479442344',\n",
       "  'dogImages/test/079.Great_pyrenees\\\\Great_pyrenees_05424.jpg'),\n",
       " ('Icelandic_sheepdog: 0.0537254184326',\n",
       "  'Belgian_malinois: 0.466034144474',\n",
       "  'dogImages/test/084.Icelandic_sheepdog\\\\Icelandic_sheepdog_05733.jpg'),\n",
       " ('Icelandic_sheepdog: 0.1622289858',\n",
       "  'Cardigan_welsh_corgi: 0.595246114665',\n",
       "  'dogImages/test/084.Icelandic_sheepdog\\\\Icelandic_sheepdog_05746.jpg'),\n",
       " ('Irish_red_and_white_setter: 0.273842169533',\n",
       "  'Brittany: 0.547208773244',\n",
       "  'dogImages/test/085.Irish_red_and_white_setter\\\\Irish_red_and_white_setter_05766.jpg'),\n",
       " ('Irish_setter: 0.25493700914',\n",
       "  'Golden_retriever: 0.410134021827',\n",
       "  'dogImages/test/086.Irish_setter\\\\Irish_setter_05816.jpg'),\n",
       " ('Kuvasz: 0.3787450949',\n",
       "  'Great_pyrenees: 0.61878208785',\n",
       "  'dogImages/test/095.Kuvasz\\\\Kuvasz_06409.jpg'),\n",
       " ('Labrador_retriever: 0.116727667123',\n",
       "  'German_shorthaired_pointer: 0.860924628874',\n",
       "  'dogImages/test/096.Labrador_retriever\\\\Labrador_retriever_06465.jpg'),\n",
       " ('Lakeland_terrier: 0.087537272383',\n",
       "  'Airedale_terrier: 0.893322198031',\n",
       "  'dogImages/test/097.Lakeland_terrier\\\\Lakeland_terrier_06558.jpg'),\n",
       " ('Lhasa_apso: 0.275518269265',\n",
       "  'Havanese: 0.477407136104',\n",
       "  'dogImages/test/099.Lhasa_apso\\\\Lhasa_apso_06620.jpg'),\n",
       " ('Lowchen: 0.0423980039246',\n",
       "  'Miniature_schnauzer: 0.823359356986',\n",
       "  'dogImages/test/100.Lowchen\\\\Lowchen_06685.jpg'),\n",
       " ('Lowchen: 0.232889006639',\n",
       "  'Lhasa_apso: 0.325140198279',\n",
       "  'dogImages/test/100.Lowchen\\\\Lowchen_06694.jpg'),\n",
       " ('Lowchen: 0.362578515584',\n",
       "  'Havanese: 0.362647805777',\n",
       "  'dogImages/test/100.Lowchen\\\\Lowchen_06699.jpg'),\n",
       " ('Mastiff: 0.199180126203',\n",
       "  'Bullmastiff: 0.705845062931',\n",
       "  'dogImages/test/103.Mastiff\\\\Mastiff_06827.jpg'),\n",
       " ('Mastiff: 0.309837102373',\n",
       "  'Bullmastiff: 0.56120170984',\n",
       "  'dogImages/test/103.Mastiff\\\\Mastiff_06847.jpg'),\n",
       " ('Norwegian_buhund: 0.0010708936197',\n",
       "  'Canaan_dog: 0.775444792377',\n",
       "  'dogImages/test/108.Norwegian_buhund\\\\Norwegian_buhund_07120.jpg'),\n",
       " ('Old_english_sheepdog: 0.365514464055',\n",
       "  'Bearded_collie: 0.592918662561',\n",
       "  'dogImages/test/113.Old_english_sheepdog\\\\Old_english_sheepdog_07390.jpg'),\n",
       " ('Old_english_sheepdog: 0.378392549025',\n",
       "  'Bearded_collie: 0.592285710904',\n",
       "  'dogImages/test/113.Old_english_sheepdog\\\\Old_english_sheepdog_07391.jpg'),\n",
       " ('Pointer: 0.00494844107713',\n",
       "  'German_shorthaired_pointer: 0.936935348643',\n",
       "  'dogImages/test/122.Pointer\\\\Pointer_07812.jpg'),\n",
       " ('Pointer: 0.0940788569531',\n",
       "  'German_shorthaired_pointer: 0.818107194371',\n",
       "  'dogImages/test/122.Pointer\\\\Pointer_07821.jpg'),\n",
       " ('Pomeranian: 0.0369520934606',\n",
       "  'Japanese_chin: 0.92184251878',\n",
       "  'dogImages/test/123.Pomeranian\\\\Pomeranian_07857.jpg'),\n",
       " ('Portuguese_water_dog: 0.196315182585',\n",
       "  'Poodle: 0.557517687687',\n",
       "  'dogImages/test/125.Portuguese_water_dog\\\\Portuguese_water_dog_07971.jpg'),\n",
       " ('Silky_terrier: 0.328433410342',\n",
       "  'Yorkshire_terrier: 0.635486269991',\n",
       "  'dogImages/test/127.Silky_terrier\\\\Silky_terrier_08055.jpg'),\n",
       " ('Silky_terrier: 0.160753734478',\n",
       "  'Yorkshire_terrier: 0.640046057188',\n",
       "  'dogImages/test/127.Silky_terrier\\\\Silky_terrier_08074.jpg'),\n",
       " ('Silky_terrier: 0.488844433958',\n",
       "  'Yorkshire_terrier: 0.501412550466',\n",
       "  'dogImages/test/127.Silky_terrier\\\\Silky_terrier_08084.jpg'),\n",
       " ('Smooth_fox_terrier: 0.113431369666',\n",
       "  'Lakeland_terrier: 0.512756992131',\n",
       "  'dogImages/test/128.Smooth_fox_terrier\\\\Smooth_fox_terrier_08116.jpg'),\n",
       " ('Yorkshire_terrier: 0.255900710349',\n",
       "  'Silky_terrier: 0.669482510123',\n",
       "  'dogImages/test/133.Yorkshire_terrier\\\\Yorkshire_terrier_08326.jpg')]"
      ]
     },
     "execution_count": 25,
     "metadata": {},
     "output_type": "execute_result"
    }
   ],
   "source": [
    "wrong_images"
   ]
  },
  {
   "cell_type": "markdown",
   "metadata": {},
   "source": [
    "# Visualizing Model Classification"
   ]
  },
  {
   "cell_type": "markdown",
   "metadata": {},
   "source": [
    "Using the process described in <a href=https://github.com/alexisbcook/ResNetCAM-keras>this</a> project, Iwas able to visualize what regions of the image produce the highest activations for a given dog breed. Essentially, this shows what the model is picking up on in an image when it looks for a given dog breed."
   ]
  },
  {
   "cell_type": "markdown",
   "metadata": {},
   "source": [
    "## Feature Map"
   ]
  },
  {
   "cell_type": "code",
   "execution_count": 26,
   "metadata": {},
   "outputs": [],
   "source": [
    "def path_to_tensor(img_path):\n",
    "    # loads RGB image as PIL.Image.Image type\n",
    "    img = image.load_img(img_path, target_size=(350, 350))\n",
    "    # convert PIL.Image.Image type to 3D tensor with shape (224, 224, 3)\n",
    "    x = image.img_to_array(img)\n",
    "    # convert 3D tensor to 4D tensor with shape (1, 224, 224, 3) and return 4D tensor\n",
    "    return np.expand_dims(x, axis=0)"
   ]
  },
  {
   "cell_type": "code",
   "execution_count": 27,
   "metadata": {},
   "outputs": [],
   "source": [
    "test_image = path_to_tensor('wrong_image.jpg')"
   ]
  },
  {
   "cell_type": "code",
   "execution_count": 28,
   "metadata": {},
   "outputs": [],
   "source": [
    "conv_features = inception.predict(path_to_tensor('wrong_image.jpg')/255)\n",
    "prediction = inception_model.predict(conv_features)"
   ]
  },
  {
   "cell_type": "code",
   "execution_count": 29,
   "metadata": {},
   "outputs": [
    {
     "data": {
      "text/plain": [
       "'Lhasa_apso'"
      ]
     },
     "execution_count": 29,
     "metadata": {},
     "output_type": "execute_result"
    }
   ],
   "source": [
    "dog_names[np.argmax(prediction)]"
   ]
  },
  {
   "cell_type": "code",
   "execution_count": 206,
   "metadata": {},
   "outputs": [
    {
     "data": {
      "text/plain": [
       "98"
      ]
     },
     "execution_count": 206,
     "metadata": {},
     "output_type": "execute_result"
    }
   ],
   "source": [
    "np.argmax(prediction)"
   ]
  },
  {
   "cell_type": "code",
   "execution_count": 207,
   "metadata": {},
   "outputs": [],
   "source": [
    "# Get the weights from the node associated with the predicted class\n",
    "weights = inception_model.get_weights()[4][:, 98]"
   ]
  },
  {
   "cell_type": "code",
   "execution_count": 208,
   "metadata": {},
   "outputs": [],
   "source": [
    "# Get the \n",
    "feature_map = conv_features[0]"
   ]
  },
  {
   "cell_type": "code",
   "execution_count": 215,
   "metadata": {},
   "outputs": [],
   "source": [
    "# Scales the features to the original image size then takes a \n",
    "# weighted sum using the weights associated with each conv layer output for the predicted class node.\n",
    "\n",
    "import scipy\n",
    "# make into a function\n",
    "fmaps= np.zeros((350,350), dtype=np.float32)\n",
    "for i in range(len(weights)):\n",
    "    fmap = scipy.ndimage.zoom(feature_map[:,:, i], 38.9)*weights[i]\n",
    "    fmaps += fmap"
   ]
  },
  {
   "cell_type": "markdown",
   "metadata": {},
   "source": [
    "Below the feature map for the predicted breed is shown with the original image shown below that. The model appears to focus in on the ears for this breed."
   ]
  },
  {
   "cell_type": "code",
   "execution_count": 221,
   "metadata": {},
   "outputs": [
    {
     "data": {
      "text/plain": [
       "<matplotlib.image.AxesImage at 0x2a48592ecf8>"
      ]
     },
     "execution_count": 221,
     "metadata": {},
     "output_type": "execute_result"
    },
    {
     "data": {
      "image/png": "[encoded data removed]",
      "text/plain": [
       "<matplotlib.figure.Figure at 0x2a4858e1320>"
      ]
     },
     "metadata": {},
     "output_type": "display_data"
    }
   ],
   "source": [
    "plt.imshow(fmaps, cmap='jet', alpha=1)"
   ]
  },
  {
   "cell_type": "code",
   "execution_count": 218,
   "metadata": {},
   "outputs": [
    {
     "data": {
      "text/plain": [
       "<matplotlib.image.AxesImage at 0x2a485873f60>"
      ]
     },
     "execution_count": 218,
     "metadata": {},
     "output_type": "execute_result"
    },
    {
     "data": {
      "image/png": "[encoded data removed]",
      "text/plain": [
       "<matplotlib.figure.Figure at 0x2a485510550>"
      ]
     },
     "metadata": {},
     "output_type": "display_data"
    }
   ],
   "source": [
    "plt.imshow(test_image[0]/255)"
   ]
  },
  {
   "cell_type": "markdown",
   "metadata": {
    "heading_collapsed": true
   },
   "source": [
    "## Plots Weights For Each Class"
   ]
  },
  {
   "cell_type": "code",
   "execution_count": null,
   "metadata": {
    "hidden": true
   },
   "outputs": [],
   "source": [
    "# Planning to use the weights for each class node in the final output as a vector describing the dog breed.\n",
    "\n",
    "# Using PCA and t-SNE I would like to try to reduce the vectors down to 3 dimensions and plot them.\n",
    "\n",
    "# Hopefully similar looking dog breeds will be grouped together."
   ]
  }
 ],
 "metadata": {
  "kernelspec": {
   "display_name": "Python 3",
   "language": "python",
   "name": "python3"
  },
  "language_info": {
   "codemirror_mode": {
    "name": "ipython",
    "version": 3
   },
   "file_extension": ".py",
   "mimetype": "text/x-python",
   "name": "python",
   "nbconvert_exporter": "python",
   "pygments_lexer": "ipython3",
   "version": "3.5.4"
  }
 },
 "nbformat": 4,
 "nbformat_minor": 2
}
